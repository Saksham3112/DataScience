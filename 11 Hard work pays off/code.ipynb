{
 "cells": [
  {
   "cell_type": "code",
   "execution_count": 18,
   "metadata": {},
   "outputs": [],
   "source": [
    "import numpy as np\n",
    "import pandas as pd"
   ]
  },
  {
   "cell_type": "code",
   "execution_count": 19,
   "metadata": {},
   "outputs": [],
   "source": [
    "x_train=pd.read_csv('Linear_X_Train.csv')\n",
    "y_train=pd.read_csv('Linear_Y_Train.csv')"
   ]
  },
  {
   "cell_type": "code",
   "execution_count": 20,
   "metadata": {},
   "outputs": [],
   "source": [
    "x_test=pd.read_csv('Linear_X_Test.csv')"
   ]
  },
  {
   "cell_type": "code",
   "execution_count": 21,
   "metadata": {},
   "outputs": [],
   "source": [
    "x_=x_train.values\n",
    "y_=y_train.values\n",
    "x_test=x_test.values"
   ]
  },
  {
   "cell_type": "code",
   "execution_count": 22,
   "metadata": {},
   "outputs": [],
   "source": [
    "theta=np.array([0,0])"
   ]
  },
  {
   "cell_type": "code",
   "execution_count": 23,
   "metadata": {},
   "outputs": [],
   "source": [
    "def grad(X,Y,Th):\n",
    "    m=len(X)\n",
    "    grad_=np.array([0.0,0.0])\n",
    "    for i in range(m):\n",
    "        cy=Y[i]\n",
    "        cx=X[i]\n",
    "        cy_=Th[0]+Th[1]*cx\n",
    "        grad_[0]+=(cy_-cy)\n",
    "        grad_[1]+=(cy_-cy)*cx\n",
    "    grad_[0]=grad_[0]/m\n",
    "    grad_[1]=grad_[1]/m\n",
    "    return grad_"
   ]
  },
  {
   "cell_type": "code",
   "execution_count": 24,
   "metadata": {},
   "outputs": [],
   "source": [
    "def error(X,Y,Th):\n",
    "    m=len(X)\n",
    "    error=0.0\n",
    "    for i in range(m):\n",
    "        cy=Y[i]\n",
    "        cx=X[i]\n",
    "        cy_=Th[0]+Th[1]*cx\n",
    "        error+=(cy_-cy)**2\n",
    "    return error"
   ]
  },
  {
   "cell_type": "code",
   "execution_count": 25,
   "metadata": {},
   "outputs": [],
   "source": [
    "def gradient_descend(X,Y,theta,stepsize=0.2,maxsteps=100):\n",
    "    error_list=[]\n",
    "    for i in range(maxsteps):\n",
    "        grad_=grad(X,Y,theta)\n",
    "        error_list.append(error(X,Y,theta))\n",
    "        theta[0]=theta[0]-stepsize*grad_[0]\n",
    "        theta[1]=theta[1]-stepsize*grad_[1]\n",
    "        \n",
    "    return theta,error_list"
   ]
  },
  {
   "cell_type": "code",
   "execution_count": 26,
   "metadata": {},
   "outputs": [],
   "source": [
    "theta,error_list=gradient_descend(x_,y_,theta)"
   ]
  },
  {
   "cell_type": "code",
   "execution_count": 27,
   "metadata": {},
   "outputs": [],
   "source": [
    "y_output=np.array([])\n",
    "y_output=theta[0]+theta[1]*x_test"
   ]
  },
  {
   "cell_type": "code",
   "execution_count": 28,
   "metadata": {},
   "outputs": [
    {
     "data": {
      "text/plain": [
       "array([[-142.72377547],\n",
       "       [ -66.04642561],\n",
       "       [-192.29386427],\n",
       "       ...,\n",
       "       [   9.7285944 ],\n",
       "       [ -21.13085682],\n",
       "       [ -51.71233256]])"
      ]
     },
     "execution_count": 28,
     "metadata": {},
     "output_type": "execute_result"
    }
   ],
   "source": [
    "y_output"
   ]
  },
  {
   "cell_type": "code",
   "execution_count": 29,
   "metadata": {},
   "outputs": [],
   "source": [
    "file=open('Output.csv',mode='w')\n",
    "file.write('y\\n')\n",
    "for i in y_output:\n",
    "    file.write(str(i[0])+'\\n')\n",
    "file.close()"
   ]
  },
  {
   "cell_type": "code",
   "execution_count": 30,
   "metadata": {},
   "outputs": [
    {
     "data": {
      "image/png": "[encoded data removed]",
      "text/plain": [
       "<Figure size 576x396 with 1 Axes>"
      ]
     },
     "metadata": {},
     "output_type": "display_data"
    },
    {
     "data": {
      "image/png": "[encoded data removed]",
      "text/plain": [
       "<Figure size 576x396 with 1 Axes>"
      ]
     },
     "metadata": {},
     "output_type": "display_data"
    }
   ],
   "source": [
    "from matplotlib import pyplot as plt\n",
    "plt.plot(error_list)\n",
    "plt.show()\n",
    "error_list=list(k[0] for k in error_list)\n",
    "plt.style.use('seaborn')\n",
    "plt.plot(error_list)\n",
    "plt.show()"
   ]
  },
  {
   "cell_type": "code",
   "execution_count": null,
   "metadata": {},
   "outputs": [],
   "source": []
  }
 ],
 "metadata": {
  "interpreter": {
   "hash": "b89b5cfaba6639976dc87ff2fec6d58faec662063367e2c229c520fe71072417"
  },
  "kernelspec": {
   "display_name": "Python 3.10.1 64-bit",
   "language": "python",
   "name": "python3"
  },
  "language_info": {
   "codemirror_mode": {
    "name": "ipython",
    "version": 3
   },
   "file_extension": ".py",
   "mimetype": "text/x-python",
   "name": "python",
   "nbconvert_exporter": "python",
   "pygments_lexer": "ipython3",
   "version": "3.10.1"
  },
  "orig_nbformat": 4
 },
 "nbformat": 4,
 "nbformat_minor": 2
}
